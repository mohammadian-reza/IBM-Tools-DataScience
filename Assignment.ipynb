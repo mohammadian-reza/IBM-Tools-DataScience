{
 "cells": [
  {
   "cell_type": "markdown",
   "metadata": {},
   "source": [
    "# \"My Jupyter NoteBook on IBM Watson Studio(GitHub)\""
   ]
  },
  {
   "cell_type": "markdown",
   "metadata": {},
   "source": [
    "### Name : **Reza Mohammadian**\n",
    "\n",
    "Occupation: Data Analyst"
   ]
  },
  {
   "cell_type": "markdown",
   "metadata": {},
   "source": [
    "*interests: I am interested in data science because it gives you the power for forecasting in Businesses, Cure diseases (Bioinformatic), and many other capabilities. I am fascinated about studying this field of science and I hope to contribute as much as I can*"
   ]
  },
  {
   "cell_type": "markdown",
   "metadata": {},
   "source": [
    "### I want to write a common function which be used mostly in **`Machine Learning`**, **The Exponential function** is used in Classification which hepls to create a Model that can Label Data in two or more catagories"
   ]
  },
  {
   "cell_type": "code",
   "execution_count": 4,
   "metadata": {},
   "outputs": [
    {
     "name": "stdout",
     "output_type": "stream",
     "text": [
      "9.889030319346946e+42\n"
     ]
    }
   ],
   "source": [
    "import numpy as np\n",
    "def EX(z):\n",
    "    '''\n",
    "    compute exponential of z\n",
    "\n",
    "    z = Initial Number\n",
    "\n",
    "    g = Exponent of z\n",
    "\n",
    "    '''\n",
    "    z = float(z)\n",
    "    g = np.exp(z)\n",
    "\n",
    "    return g\n",
    "\n",
    "A = EX(99)\n",
    "print(A)"
   ]
  },
  {
   "cell_type": "markdown",
   "metadata": {},
   "source": [
    "### There are Many **Types of Markdown** in Jupyter NoteBook\n",
    "\n",
    "\n",
    "##### **Horizontal Rule** by (---)\n",
    "\n",
    "---\n",
    "\n",
    "\n",
    "##### **Bullet List** by (*)\n",
    "* item1\n",
    "* item2\n",
    "* item3\n",
    "\n",
    "\n",
    "##### **Numbered list** by (number + space)\n",
    "1. One\n",
    "2. Two\n",
    "3. Three\n",
    "\n",
    "\n",
    "\n",
    "##### **Table** \n",
    "| Tables        | Are           | Col   |\n",
    "| ------------- |:-------------:| -----:|\n",
    "| Item1         | Att1          |amoun1 |\n",
    "| Item2         | Att2          |amount2|\n",
    "| Item3         | Att3          |amount3|\n",
    "\n",
    "\n",
    "##### **Links** by ([] + (Link))\n",
    "\n",
    "Best Platform for Learning Data Science is [Coursera](https://coursera.org)\n",
    "\n",
    "\n",
    "\n",
    "##### **Blockquotes** by (>)\n",
    "\n",
    "> Quoted Text\n",
    "\n",
    "##### Code Syntax By (``` Programming Language)\n",
    "\n",
    "```python\n",
    "print('Hello World')\n"
   ]
  }
 ],
 "metadata": {
  "kernelspec": {
   "display_name": "Python 3.8.5 ('base')",
   "language": "python",
   "name": "python3"
  },
  "language_info": {
   "codemirror_mode": {
    "name": "ipython",
    "version": 3
   },
   "file_extension": ".py",
   "mimetype": "text/x-python",
   "name": "python",
   "nbconvert_exporter": "python",
   "pygments_lexer": "ipython3",
   "version": "3.8.5"
  },
  "orig_nbformat": 4,
  "vscode": {
   "interpreter": {
    "hash": "1c50a568c9bb54733425ee4b50464281b54488c5e15ff27e4e32e073d46803f6"
   }
  }
 },
 "nbformat": 4,
 "nbformat_minor": 2
}
